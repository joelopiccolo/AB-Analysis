{
 "cells": [
  {
   "cell_type": "markdown",
   "metadata": {},
   "source": [
    "# A/B Statistical Analysis\n",
    "\n",
    "### In this analysis, I was presented with various ads to test against a site's current ad. I wanted to see which ad had the greatest amount of purchase conversions which would then indicate the more effective ad to use on the website. Based off of user feedback the site was getting while using the current ad, I decided to use an A/B test in order to test against the ad model I hypothesized to have a better outcome.\n",
    "\n",
    "* The ad with the best outcome was Ad C with approximately 700 more click conversions\n",
    "* The current Ad was significantly lower in conversions for a number of qualitative reasons such as: misleading information, not enough time to complete the lessons, and unaware of product features.\n",
    "\n",
    "###### For confidentiality, the ads from the site are not to be presented for this public notebook as they were used for A/B testing within the company."
   ]
  },
  {
   "cell_type": "code",
   "execution_count": 1,
   "metadata": {
    "collapsed": true
   },
   "outputs": [],
   "source": [
    "#import all necessary libraries\n",
    "import numpy as np\n",
    "import pandas as pd\n",
    "import scipy as sp\n",
    "#statistics\n",
    "from scipy import stats\n",
    "#statistical data visualization\n",
    "import seaborn as sns\n",
    "#import sql database\n",
    "import sqlite3\n",
    "#make visualizations \n",
    "import matplotlib.pyplot as plt\n",
    "%matplotlib inline"
   ]
  },
  {
   "cell_type": "code",
   "execution_count": 2,
   "metadata": {
    "collapsed": true
   },
   "outputs": [],
   "source": [
    "#set a connection to upload database from sqlite\n",
    "database = \"codecademy_sqlite_adc.db\"\n",
    "connection = sqlite3.connect(database)"
   ]
  },
  {
   "cell_type": "code",
   "execution_count": 3,
   "metadata": {
    "collapsed": true
   },
   "outputs": [],
   "source": [
    "#use sql query to pull in tables needed from database\n",
    "df = pd.read_sql_query(\"\"\"\n",
    "SELECT *\n",
    "FROM CurrentAd\n",
    "UNION\n",
    "SELECT *\n",
    "FROM GroupC\n",
    "\"\"\", connection)"
   ]
  },
  {
   "cell_type": "code",
   "execution_count": 4,
   "metadata": {},
   "outputs": [
    {
     "data": {
      "text/html": [
       "<div>\n",
       "<style>\n",
       "    .dataframe thead tr:only-child th {\n",
       "        text-align: right;\n",
       "    }\n",
       "\n",
       "    .dataframe thead th {\n",
       "        text-align: left;\n",
       "    }\n",
       "\n",
       "    .dataframe tbody tr th {\n",
       "        vertical-align: top;\n",
       "    }\n",
       "</style>\n",
       "<table border=\"1\" class=\"dataframe\">\n",
       "  <thead>\n",
       "    <tr style=\"text-align: right;\">\n",
       "      <th></th>\n",
       "      <th>index</th>\n",
       "      <th>uuid</th>\n",
       "      <th>num_achievements</th>\n",
       "      <th>num_exercises</th>\n",
       "      <th>num_points</th>\n",
       "      <th>Click</th>\n",
       "      <th>Group</th>\n",
       "      <th>Button</th>\n",
       "      <th>Banner</th>\n",
       "    </tr>\n",
       "  </thead>\n",
       "  <tbody>\n",
       "    <tr>\n",
       "      <th>0</th>\n",
       "      <td>0</td>\n",
       "      <td>981943945</td>\n",
       "      <td>0</td>\n",
       "      <td>0</td>\n",
       "      <td>0</td>\n",
       "      <td>1.0</td>\n",
       "      <td>CurrentAd</td>\n",
       "      <td>No</td>\n",
       "      <td>Yes</td>\n",
       "    </tr>\n",
       "    <tr>\n",
       "      <th>1</th>\n",
       "      <td>2</td>\n",
       "      <td>981944745</td>\n",
       "      <td>0</td>\n",
       "      <td>0</td>\n",
       "      <td>0</td>\n",
       "      <td>0.0</td>\n",
       "      <td>CurrentAd</td>\n",
       "      <td>No</td>\n",
       "      <td>Yes</td>\n",
       "    </tr>\n",
       "    <tr>\n",
       "      <th>2</th>\n",
       "      <td>3</td>\n",
       "      <td>981944801</td>\n",
       "      <td>0</td>\n",
       "      <td>0</td>\n",
       "      <td>0</td>\n",
       "      <td>0.0</td>\n",
       "      <td>CurrentAd</td>\n",
       "      <td>No</td>\n",
       "      <td>Yes</td>\n",
       "    </tr>\n",
       "    <tr>\n",
       "      <th>3</th>\n",
       "      <td>4</td>\n",
       "      <td>981944857</td>\n",
       "      <td>0</td>\n",
       "      <td>0</td>\n",
       "      <td>0</td>\n",
       "      <td>0.0</td>\n",
       "      <td>CurrentAd</td>\n",
       "      <td>No</td>\n",
       "      <td>Yes</td>\n",
       "    </tr>\n",
       "    <tr>\n",
       "      <th>4</th>\n",
       "      <td>6</td>\n",
       "      <td>981960025</td>\n",
       "      <td>0</td>\n",
       "      <td>0</td>\n",
       "      <td>0</td>\n",
       "      <td>0.0</td>\n",
       "      <td>CurrentAd</td>\n",
       "      <td>No</td>\n",
       "      <td>Yes</td>\n",
       "    </tr>\n",
       "  </tbody>\n",
       "</table>\n",
       "</div>"
      ],
      "text/plain": [
       "   index       uuid  num_achievements  num_exercises  num_points  Click  \\\n",
       "0      0  981943945                 0              0           0    1.0   \n",
       "1      2  981944745                 0              0           0    0.0   \n",
       "2      3  981944801                 0              0           0    0.0   \n",
       "3      4  981944857                 0              0           0    0.0   \n",
       "4      6  981960025                 0              0           0    0.0   \n",
       "\n",
       "       Group Button Banner  \n",
       "0  CurrentAd     No    Yes  \n",
       "1  CurrentAd     No    Yes  \n",
       "2  CurrentAd     No    Yes  \n",
       "3  CurrentAd     No    Yes  \n",
       "4  CurrentAd     No    Yes  "
      ]
     },
     "execution_count": 4,
     "metadata": {},
     "output_type": "execute_result"
    }
   ],
   "source": [
    "#view the dataframe from the connection made above\n",
    "df.head()"
   ]
  },
  {
   "cell_type": "code",
   "execution_count": 5,
   "metadata": {},
   "outputs": [
    {
     "name": "stdout",
     "output_type": "stream",
     "text": [
      "<class 'pandas.core.frame.DataFrame'>\n",
      "RangeIndex: 26214 entries, 0 to 26213\n",
      "Data columns (total 9 columns):\n",
      "index               26214 non-null int64\n",
      "uuid                26214 non-null int64\n",
      "num_achievements    26214 non-null int64\n",
      "num_exercises       26214 non-null int64\n",
      "num_points          26214 non-null int64\n",
      "Click               26214 non-null float64\n",
      "Group               26214 non-null object\n",
      "Button              26214 non-null object\n",
      "Banner              26214 non-null object\n",
      "dtypes: float64(1), int64(5), object(3)\n",
      "memory usage: 1.8+ MB\n"
     ]
    }
   ],
   "source": [
    "#check data types and change if needed\n",
    "df.info()"
   ]
  },
  {
   "cell_type": "code",
   "execution_count": 6,
   "metadata": {
    "collapsed": true
   },
   "outputs": [],
   "source": [
    "#reassign data types for better data manipulation later on\n",
    "df['Group'] = df['Group'].astype('category')\n",
    "df['Button'] = df['Button'].astype('category')\n",
    "df['Banner'] = df['Banner'].astype('category')"
   ]
  },
  {
   "cell_type": "code",
   "execution_count": 7,
   "metadata": {
    "scrolled": true
   },
   "outputs": [
    {
     "name": "stdout",
     "output_type": "stream",
     "text": [
      "<class 'pandas.core.frame.DataFrame'>\n",
      "RangeIndex: 26214 entries, 0 to 26213\n",
      "Data columns (total 9 columns):\n",
      "index               26214 non-null int64\n",
      "uuid                26214 non-null int64\n",
      "num_achievements    26214 non-null int64\n",
      "num_exercises       26214 non-null int64\n",
      "num_points          26214 non-null int64\n",
      "Click               26214 non-null float64\n",
      "Group               26214 non-null category\n",
      "Button              26214 non-null category\n",
      "Banner              26214 non-null category\n",
      "dtypes: category(3), float64(1), int64(5)\n",
      "memory usage: 1.3 MB\n"
     ]
    }
   ],
   "source": [
    "#check data types\n",
    "df.info()"
   ]
  },
  {
   "cell_type": "code",
   "execution_count": 8,
   "metadata": {},
   "outputs": [
    {
     "data": {
      "text/plain": [
       "index               0\n",
       "uuid                0\n",
       "num_achievements    0\n",
       "num_exercises       0\n",
       "num_points          0\n",
       "Click               0\n",
       "Group               0\n",
       "Button              0\n",
       "Banner              0\n",
       "dtype: int64"
      ]
     },
     "execution_count": 8,
     "metadata": {},
     "output_type": "execute_result"
    }
   ],
   "source": [
    "#check for null values\n",
    "df.isnull().sum()"
   ]
  },
  {
   "cell_type": "code",
   "execution_count": 9,
   "metadata": {},
   "outputs": [
    {
     "data": {
      "text/html": [
       "<div>\n",
       "<style>\n",
       "    .dataframe thead tr:only-child th {\n",
       "        text-align: right;\n",
       "    }\n",
       "\n",
       "    .dataframe thead th {\n",
       "        text-align: left;\n",
       "    }\n",
       "\n",
       "    .dataframe tbody tr th {\n",
       "        vertical-align: top;\n",
       "    }\n",
       "</style>\n",
       "<table border=\"1\" class=\"dataframe\">\n",
       "  <thead>\n",
       "    <tr style=\"text-align: right;\">\n",
       "      <th></th>\n",
       "      <th>index</th>\n",
       "      <th>uuid</th>\n",
       "      <th>num_achievements</th>\n",
       "      <th>num_exercises</th>\n",
       "      <th>num_points</th>\n",
       "      <th>Click</th>\n",
       "    </tr>\n",
       "  </thead>\n",
       "  <tbody>\n",
       "    <tr>\n",
       "      <th>count</th>\n",
       "      <td>26214.000000</td>\n",
       "      <td>2.621400e+04</td>\n",
       "      <td>26214.000000</td>\n",
       "      <td>26214.000000</td>\n",
       "      <td>26214.000000</td>\n",
       "      <td>26214.000000</td>\n",
       "    </tr>\n",
       "    <tr>\n",
       "      <th>mean</th>\n",
       "      <td>41903.245098</td>\n",
       "      <td>1.039720e+09</td>\n",
       "      <td>4.306210</td>\n",
       "      <td>25.207065</td>\n",
       "      <td>25.207065</td>\n",
       "      <td>0.056687</td>\n",
       "    </tr>\n",
       "    <tr>\n",
       "      <th>std</th>\n",
       "      <td>44251.550951</td>\n",
       "      <td>6.743032e+07</td>\n",
       "      <td>9.382253</td>\n",
       "      <td>59.754837</td>\n",
       "      <td>59.754837</td>\n",
       "      <td>0.231248</td>\n",
       "    </tr>\n",
       "    <tr>\n",
       "      <th>min</th>\n",
       "      <td>0.000000</td>\n",
       "      <td>9.616265e+08</td>\n",
       "      <td>0.000000</td>\n",
       "      <td>0.000000</td>\n",
       "      <td>0.000000</td>\n",
       "      <td>0.000000</td>\n",
       "    </tr>\n",
       "    <tr>\n",
       "      <th>25%</th>\n",
       "      <td>9524.750000</td>\n",
       "      <td>9.820949e+08</td>\n",
       "      <td>0.000000</td>\n",
       "      <td>0.000000</td>\n",
       "      <td>0.000000</td>\n",
       "      <td>0.000000</td>\n",
       "    </tr>\n",
       "    <tr>\n",
       "      <th>50%</th>\n",
       "      <td>19040.000000</td>\n",
       "      <td>9.845606e+08</td>\n",
       "      <td>0.000000</td>\n",
       "      <td>0.000000</td>\n",
       "      <td>0.000000</td>\n",
       "      <td>0.000000</td>\n",
       "    </tr>\n",
       "    <tr>\n",
       "      <th>75%</th>\n",
       "      <td>77626.500000</td>\n",
       "      <td>1.099313e+09</td>\n",
       "      <td>4.000000</td>\n",
       "      <td>17.000000</td>\n",
       "      <td>17.000000</td>\n",
       "      <td>0.000000</td>\n",
       "    </tr>\n",
       "    <tr>\n",
       "      <th>max</th>\n",
       "      <td>148303.000000</td>\n",
       "      <td>1.118686e+09</td>\n",
       "      <td>95.000000</td>\n",
       "      <td>673.000000</td>\n",
       "      <td>673.000000</td>\n",
       "      <td>1.000000</td>\n",
       "    </tr>\n",
       "  </tbody>\n",
       "</table>\n",
       "</div>"
      ],
      "text/plain": [
       "               index          uuid  num_achievements  num_exercises  \\\n",
       "count   26214.000000  2.621400e+04      26214.000000   26214.000000   \n",
       "mean    41903.245098  1.039720e+09          4.306210      25.207065   \n",
       "std     44251.550951  6.743032e+07          9.382253      59.754837   \n",
       "min         0.000000  9.616265e+08          0.000000       0.000000   \n",
       "25%      9524.750000  9.820949e+08          0.000000       0.000000   \n",
       "50%     19040.000000  9.845606e+08          0.000000       0.000000   \n",
       "75%     77626.500000  1.099313e+09          4.000000      17.000000   \n",
       "max    148303.000000  1.118686e+09         95.000000     673.000000   \n",
       "\n",
       "         num_points         Click  \n",
       "count  26214.000000  26214.000000  \n",
       "mean      25.207065      0.056687  \n",
       "std       59.754837      0.231248  \n",
       "min        0.000000      0.000000  \n",
       "25%        0.000000      0.000000  \n",
       "50%        0.000000      0.000000  \n",
       "75%       17.000000      0.000000  \n",
       "max      673.000000      1.000000  "
      ]
     },
     "execution_count": 9,
     "metadata": {},
     "output_type": "execute_result"
    }
   ],
   "source": [
    "#look to see if there are any outliers in the data\n",
    "df.describe()"
   ]
  },
  {
   "cell_type": "code",
   "execution_count": 10,
   "metadata": {
    "scrolled": true
   },
   "outputs": [
    {
     "name": "stdout",
     "output_type": "stream",
     "text": [
      "<class 'pandas.core.frame.DataFrame'>\n",
      "RangeIndex: 26214 entries, 0 to 26213\n",
      "Data columns (total 9 columns):\n",
      "index               26214 non-null int64\n",
      "uuid                26214 non-null int64\n",
      "num_achievements    26214 non-null int64\n",
      "num_exercises       26214 non-null int64\n",
      "num_points          26214 non-null int64\n",
      "Click               26214 non-null float64\n",
      "Group               26214 non-null category\n",
      "Button              26214 non-null category\n",
      "Banner              26214 non-null category\n",
      "dtypes: category(3), float64(1), int64(5)\n",
      "memory usage: 1.3 MB\n"
     ]
    }
   ],
   "source": [
    "#change the sample size so that each ad sample is equal to one another. This gives more accuracy to the test\n",
    "df.sample(12000, replace=True)\n",
    "df.info()"
   ]
  },
  {
   "cell_type": "code",
   "execution_count": 11,
   "metadata": {},
   "outputs": [
    {
     "ename": "SyntaxError",
     "evalue": "invalid syntax (<ipython-input-11-28a01a51f2b8>, line 2)",
     "output_type": "error",
     "traceback": [
      "\u001b[0;36m  File \u001b[0;32m\"<ipython-input-11-28a01a51f2b8>\"\u001b[0;36m, line \u001b[0;32m2\u001b[0m\n\u001b[0;31m    group_c_clicks = ≥\u001b[0m\n\u001b[0m                     ^\u001b[0m\n\u001b[0;31mSyntaxError\u001b[0m\u001b[0;31m:\u001b[0m invalid syntax\n"
     ]
    }
   ],
   "source": [
    "#clicks over impressions = CTR (click through rate)\n",
    "group_c_clicks = ≥\n",
    "current_ad_clicks = (current_ad['Click'].sum()) / (current_ad['Click'].count())\n",
    "print group_c_clicks\n",
    "print current_ad_clicks"
   ]
  },
  {
   "cell_type": "code",
   "execution_count": null,
   "metadata": {
    "scrolled": true
   },
   "outputs": [],
   "source": [
    "#visualize clicks for each ad\n",
    "Clicks = df[df['Click'] == 1].head(12000)\n",
    "sns.countplot(x=Clicks['Group'], data = df)\n",
    "sns.set_style(\"darkgrid\", {\"axes.facecolor\": \".9\",'text.color': 'w'})\n",
    "plt.legend()\n",
    "plt.xlabel('Ad')\n",
    "plt.ylabel('Count of Clicks')\n",
    "plt.title(\"Count of Clicks by Ad\")"
   ]
  },
  {
   "cell_type": "code",
   "execution_count": null,
   "metadata": {
    "scrolled": true
   },
   "outputs": [],
   "source": [
    "#subset the two groups in order to run the ttest\n",
    "group_c = df[df['Group'] == 'C'].head(12000)\n",
    "current_ad = df[df['Group'] == 'CurrentAd'].head(12000)\n",
    "alpha = .05\n",
    "sp.stats.ttest_ind(group_c['Click'], current_ad['Click'])"
   ]
  },
  {
   "cell_type": "markdown",
   "metadata": {},
   "source": []
  }
 ],
 "metadata": {
  "kernelspec": {
   "display_name": "Python 2",
   "language": "python",
   "name": "python2"
  },
  "language_info": {
   "codemirror_mode": {
    "name": "ipython",
    "version": 2
   },
   "file_extension": ".py",
   "mimetype": "text/x-python",
   "name": "python",
   "nbconvert_exporter": "python",
   "pygments_lexer": "ipython2",
   "version": "2.7.13"
  }
 },
 "nbformat": 4,
 "nbformat_minor": 2
}
